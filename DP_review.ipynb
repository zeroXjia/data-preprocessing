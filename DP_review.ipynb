{
 "cells": [
  {
   "cell_type": "markdown",
   "id": "7e371aa6-dd7b-45d2-8fef-a9cf27c4a8d0",
   "metadata": {},
   "source": [
    "# 데이터전처리 리뷰1"
   ]
  },
  {
   "cell_type": "code",
   "execution_count": null,
   "id": "01fc9940-6dbe-45d6-835b-a5367b9bad3a",
   "metadata": {},
   "outputs": [],
   "source": [
    "# 라이브러리 불러오기\n",
    "import numpy as np\n",
    "import pandas as pd\n",
    "import matplotlib.pyplot as plt\n",
    "%config InlineBackend.figure_format='retina'"
   ]
  },
  {
   "cell_type": "code",
   "execution_count": null,
   "id": "cc8ce36a-af88-4f84-9b23-54f03604002c",
   "metadata": {},
   "outputs": [],
   "source": [
    "# 파일 불러오기\n",
    "path = 'https://bit.ly/TitanicFile'\n",
    "titanic = pd.read_csv(path)\n",
    "\n",
    "titanic.head()"
   ]
  },
  {
   "cell_type": "code",
   "execution_count": null,
   "id": "6fa1b47f-9fb9-483a-8d2c-163a0905d9fa",
   "metadata": {},
   "outputs": [],
   "source": [
    "# 열 이름, 데이터 형식 등을 한 번에 확인\n",
    "titanic.info()"
   ]
  },
  {
   "cell_type": "code",
   "execution_count": null,
   "id": "0e0c12d8-8d85-4838-84c8-a9712182803e",
   "metadata": {},
   "outputs": [],
   "source": [
    "# 기술 통계\n",
    "titanic.describe()"
   ]
  },
  {
   "cell_type": "code",
   "execution_count": null,
   "id": "a0da7d00-2852-495d-ac56-1842b0264910",
   "metadata": {},
   "outputs": [],
   "source": [
    "# Pclass 범줏값 개수(어떤 값이 몇 개 씩 있는지)\n",
    "titanic['Pclass'].value_counts()"
   ]
  },
  {
   "cell_type": "code",
   "execution_count": null,
   "id": "63eb247b-bcd1-4438-943a-26701bbcb901",
   "metadata": {},
   "outputs": [],
   "source": [
    "# sex 범줏값 개수(어떤 값이 몇 개 씩 있는지)\n",
    "titanic['Sex'].value_counts()"
   ]
  },
  {
   "cell_type": "code",
   "execution_count": null,
   "id": "ec52b954-bd65-4c23-8ba0-e6ca5e076cc6",
   "metadata": {},
   "outputs": [],
   "source": [
    "# 남녀별 생존자 수 집계\n",
    "ttt = titanic.groupby(by='Sex', as_index=False)[['Survived']].sum()"
   ]
  },
  {
   "cell_type": "code",
   "execution_count": null,
   "id": "97e97a8c-a684-4e1c-9953-a18791ff87f6",
   "metadata": {},
   "outputs": [],
   "source": [
    "ttt"
   ]
  },
  {
   "cell_type": "code",
   "execution_count": null,
   "id": "797678d6-b961-4e01-a4af-2debf6189673",
   "metadata": {},
   "outputs": [],
   "source": [
    "# 생존자 수 시각화\n",
    "plt.bar(x=ttt['Sex'], height=ttt['Survived'] )"
   ]
  },
  {
   "cell_type": "code",
   "execution_count": null,
   "id": "933555f7-eaa2-49b7-8267-c1b670d3c5d4",
   "metadata": {},
   "outputs": [],
   "source": [
    "# 남녀별 생존율 집계)\n",
    "tt1 = titanic.groupby(by='Sex', as_index=False)[['Survived']].mean()\n",
    "tt1"
   ]
  },
  {
   "cell_type": "code",
   "execution_count": null,
   "id": "13bc6814-a04a-4453-b118-2002afd5cd21",
   "metadata": {},
   "outputs": [],
   "source": [
    "# 생존율 시각화\n",
    "plt.bar(tt1['Sex'], tt1['Survived'])"
   ]
  },
  {
   "cell_type": "code",
   "execution_count": null,
   "id": "e72a694c-e2dc-4ea0-af9b-aedb24f82e35",
   "metadata": {},
   "outputs": [],
   "source": [
    "# 65살 이상 탑승자 조회\n",
    "# 행을 뒤져 조건에 맞는 행을 찾는다(검색 대상이 행이 됨)"
   ]
  },
  {
   "cell_type": "code",
   "execution_count": null,
   "id": "1fae6768-1c40-4c58-bd3a-ad17767f3194",
   "metadata": {},
   "outputs": [],
   "source": [
    "age65 = titanic.loc[titanic['Age']>=65, :]\n",
    "age65"
   ]
  },
  {
   "cell_type": "markdown",
   "id": "d48427e0-734c-4657-9c5b-15f77b4f0e26",
   "metadata": {},
   "source": [
    "$ $\n",
    "\n",
    "$ $"
   ]
  },
  {
   "cell_type": "markdown",
   "id": "13585813-2957-46be-969f-fe4a049d8797",
   "metadata": {},
   "source": [
    "# 데이터전처리 리뷰2"
   ]
  },
  {
   "cell_type": "code",
   "execution_count": null,
   "id": "6486347d-8f41-4245-9207-ae5ded7e9c74",
   "metadata": {},
   "outputs": [],
   "source": [
    "#  라이브러리 불러오기\n",
    "import numpy as np\n",
    "import pandas as pd\n",
    "import matplotlib.pyplot as plt\n",
    "\n",
    "%config InlineBackend.figure_format = 'retina'"
   ]
  },
  {
   "cell_type": "code",
   "execution_count": null,
   "id": "2e1f6ef3-69e6-4814-863c-c4fcc4424c54",
   "metadata": {},
   "outputs": [],
   "source": [
    "# 한글 파일을 읽을 때, encoding='CP949'옵션\n",
    "# 1000자리마다 , 있을 경우 없애기 위해 thousands=',' 옵션"
   ]
  },
  {
   "cell_type": "code",
   "execution_count": null,
   "id": "4be039d1-175f-4f86-8803-7a422d209890",
   "metadata": {},
   "outputs": [],
   "source": [
    "# 파일 읽어오기\n",
    "path = 'https://bit.ly/CrimeFile'\n",
    "crime = pd.read_csv(path, encoding='CP949', thousands=',')\n",
    "\n",
    "crime.head()"
   ]
  },
  {
   "cell_type": "code",
   "execution_count": null,
   "id": "d89098f5-b006-47be-b9e4-7dedace49942",
   "metadata": {},
   "outputs": [],
   "source": [
    "crime.info"
   ]
  },
  {
   "cell_type": "code",
   "execution_count": null,
   "id": "e12f80e2-b061-4a16-834f-9bdbe008be78",
   "metadata": {},
   "outputs": [],
   "source": [
    "# 특정 열을 기준으로 정렬   # .sort_values\n",
    "\n",
    "# 정렬된 내용이 crime에 반영x \n",
    "#   -> 반영하려면 변수를 따로 받거나, inplace=True옵션 필요.\n",
    "\n",
    "# crime.sort_values(by='천명당범죄발생건수', ascending=False)  반영x\n",
    "crime.sort_values(by='천명당범죄발생건수', ascending=False, inplace=True)\n",
    "\n",
    "#확인\n",
    "crime.head()\n"
   ]
  },
  {
   "cell_type": "markdown",
   "id": "82d6a62b-22c2-4737-87ed-572d943983c8",
   "metadata": {},
   "source": [
    "- 데이터프레임을 '천명당범죄발생건수'로 오름차순 정렬하세요.(데이터프레임 cr선언)"
   ]
  },
  {
   "cell_type": "code",
   "execution_count": null,
   "id": "8de69ed2-6c60-40ae-9ff9-0477c5cb9545",
   "metadata": {},
   "outputs": [],
   "source": [
    "cr = crime.sort_values(by='천명당범죄발생건수', ascending=True)\n",
    "cr.head()"
   ]
  },
  {
   "cell_type": "markdown",
   "id": "04715331-0320-42f5-8ef8-3f4eeed05d3a",
   "metadata": {},
   "source": [
    "- 데이터프레임 복사 원리"
   ]
  },
  {
   "cell_type": "code",
   "execution_count": null,
   "id": "526d8086-bfe1-4a92-a41a-29ba4280190c",
   "metadata": {},
   "outputs": [],
   "source": [
    "# 데이터프레임 복사()\n",
    "crime2 = crime\n",
    "\n",
    "# 복사된 데이터프레임 변경\n",
    "crime2['천명당범죄발생건수'] = 0\n",
    "\n",
    "# crime2확인\n",
    "crime2"
   ]
  },
  {
   "cell_type": "code",
   "execution_count": null,
   "id": "324d8c99-b21a-4aa2-a579-123d6b7105b0",
   "metadata": {},
   "outputs": [],
   "source": [
    "# 원본 데이터 확인\n",
    "crime"
   ]
  },
  {
   "cell_type": "code",
   "execution_count": null,
   "id": "80cb25b0-d06b-4d64-9187-fc3d59b9f469",
   "metadata": {},
   "outputs": [],
   "source": [
    "# a = b 의 경우는 a나 b가 변경되면 서로 영향을 미침.\n",
    "# 그래서 .copy()로 영향을 받지 않는 완전복사를 이용해야함."
   ]
  },
  {
   "cell_type": "code",
   "execution_count": null,
   "id": "d9a9cf3e-63da-4329-9d2f-5075b70a569f",
   "metadata": {},
   "outputs": [],
   "source": [
    "# 데이터프레임 복사 (완전복사)\n",
    "crime3 = crime[crime['기간']==2016].copy()\n",
    "crime3"
   ]
  },
  {
   "cell_type": "code",
   "execution_count": null,
   "id": "56a1a296-698c-439d-ab65-b2393c9e0a1b",
   "metadata": {},
   "outputs": [],
   "source": [
    "#########   복사    ###########\n",
    "\n",
    "# a = [1, 2, 3, 4, 5]\n",
    "\n",
    "# b=a         --> a가 변경되면 b도 변경, 같은 속성\n",
    "# c = a[:]    --> 완벽하게 떨어진 복사가 됨, a가 변경되도 c에 영향x (완전 복사)\n",
    "# c = a.copy()  ---> 완벽하게 떨어진 복사가 됨, a가 변경되도 c에 영향x  (완전 복사)"
   ]
  }
 ],
 "metadata": {
  "kernelspec": {
   "display_name": "Python 3 (ipykernel)",
   "language": "python",
   "name": "python3"
  },
  "language_info": {
   "codemirror_mode": {
    "name": "ipython",
    "version": 3
   },
   "file_extension": ".py",
   "mimetype": "text/x-python",
   "name": "python",
   "nbconvert_exporter": "python",
   "pygments_lexer": "ipython3",
   "version": "3.9.13"
  }
 },
 "nbformat": 4,
 "nbformat_minor": 5
}
